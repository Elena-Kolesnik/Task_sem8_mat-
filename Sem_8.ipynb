{
  "nbformat": 4,
  "nbformat_minor": 0,
  "metadata": {
    "colab": {
      "provenance": []
    },
    "kernelspec": {
      "name": "python3",
      "display_name": "Python 3"
    },
    "language_info": {
      "name": "python"
    }
  },
  "cells": [
    {
      "cell_type": "markdown",
      "source": [
        "**Задача 1.** Даны значения величины заработной платы заемщиков банка (zp) и значения их поведенческого кредитного скоринга (ks):\n",
        "\n",
        "zp = [35, 45, 190, 200, 40, 70, 54, 150, 120, 110],\n",
        "\n",
        "ks = [401, 574, 874, 919, 459, 739, 653, 902, 746, 832].\n"
      ],
      "metadata": {
        "id": "24nxZXZniioC"
      }
    },
    {
      "cell_type": "markdown",
      "source": [
        "\n",
        "1)Найдите ковариацию этих двух величин с помощью элементарных действий;\n",
        "\n"
      ],
      "metadata": {
        "id": "rI7DrtqMkFmJ"
      }
    },
    {
      "cell_type": "code",
      "source": [
        "import numpy as np\n",
        "import pandas as pd\n",
        "from scipy import stats\n",
        "\n",
        "\n",
        "zp  = np.array([35, 45, 190, 200, 40, 70, 54, 150, 120, 110])\n",
        "ks = np.array([401, 574, 874, 919, 459, 739, 653, 902, 746, 83])\n",
        "\n",
        "cov_r = (zp * ks).mean() - zp.mean() * ks.mean()\n",
        "\n",
        "cov_r_s = ((zp - zp.mean()) * (ks - ks.mean())).sum() / (zp.shape[0] - 1)\n",
        "print(\"Несмещенная        Смещенная\\n\",cov_r, cov_r_s)"
      ],
      "metadata": {
        "colab": {
          "base_uri": "https://localhost:8080/"
        },
        "id": "LlFRzYFUj_Jj",
        "outputId": "34524345-dc1f-48a6-e7ca-d8fe71f70e9e"
      },
      "execution_count": 2,
      "outputs": [
        {
          "output_type": "stream",
          "name": "stdout",
          "text": [
            "Несмещенная        Смещенная\n",
            " 8513.699999999997 9459.666666666668\n"
          ]
        }
      ]
    },
    {
      "cell_type": "markdown",
      "source": [
        "2)Найдите ковариацию этих двух величин с помощью функции cov из numpy;"
      ],
      "metadata": {
        "id": "ZxGm8COBkSMv"
      }
    },
    {
      "cell_type": "code",
      "source": [
        "cov = np.cov(zp, ks, ddof=0)\n",
        "cov_s = np.cov(zp, ks)\n",
        "print(\"Несмещенная Смещенная\")\n",
        "cov[1, 0], cov_s[1, 0]"
      ],
      "metadata": {
        "colab": {
          "base_uri": "https://localhost:8080/"
        },
        "id": "t1Is05n3koNO",
        "outputId": "eb73a4dc-0431-40b5-a23f-fe2c160e809a"
      },
      "execution_count": 3,
      "outputs": [
        {
          "output_type": "stream",
          "name": "stdout",
          "text": [
            "Несмещенная Смещенная\n"
          ]
        },
        {
          "output_type": "execute_result",
          "data": {
            "text/plain": [
              "(8513.7, 9459.666666666666)"
            ]
          },
          "metadata": {},
          "execution_count": 3
        }
      ]
    },
    {
      "cell_type": "markdown",
      "source": [
        "Полученные значения 1) и 2) должны быть равны."
      ],
      "metadata": {
        "id": "LyzirlUEktEX"
      }
    },
    {
      "cell_type": "markdown",
      "source": [
        "3)Найдите коэффициент корреляции Пирсона с помощью ковариации и среднеквадратичных отклонений двух признаков;"
      ],
      "metadata": {
        "id": "EiLS82mukxN8"
      }
    },
    {
      "cell_type": "code",
      "source": [
        "corr = cov_r / (zp.std() * ks.std())\n",
        "corr"
      ],
      "metadata": {
        "colab": {
          "base_uri": "https://localhost:8080/"
        },
        "id": "wVcVgejdk83d",
        "outputId": "1a7d0bbd-8604-423b-fb5e-84c5a8707b84"
      },
      "execution_count": 4,
      "outputs": [
        {
          "output_type": "execute_result",
          "data": {
            "text/plain": [
              "0.5752979381832006"
            ]
          },
          "metadata": {},
          "execution_count": 4
        }
      ]
    },
    {
      "cell_type": "markdown",
      "source": [
        "4)Найдите коэффициент корреляции Пирсона с использованием функций из библиотек numpy и pandas."
      ],
      "metadata": {
        "id": "rBAiLSi6ljh_"
      }
    },
    {
      "cell_type": "code",
      "source": [
        "df = pd.DataFrame({'Salary': zp, 'Scoring': ks})\n",
        "df[['Salary', 'Scoring']].corr()"
      ],
      "metadata": {
        "colab": {
          "base_uri": "https://localhost:8080/",
          "height": 111
        },
        "id": "YIHuYG07ly_g",
        "outputId": "1a83e2d5-6346-4e0a-fef4-2c637970312f"
      },
      "execution_count": 6,
      "outputs": [
        {
          "output_type": "execute_result",
          "data": {
            "text/plain": [
              "           Salary   Scoring\n",
              "Salary   1.000000  0.575298\n",
              "Scoring  0.575298  1.000000"
            ],
            "text/html": [
              "\n",
              "  <div id=\"df-a4eb19f3-82e2-4c0d-a0cb-3509da484ea3\">\n",
              "    <div class=\"colab-df-container\">\n",
              "      <div>\n",
              "<style scoped>\n",
              "    .dataframe tbody tr th:only-of-type {\n",
              "        vertical-align: middle;\n",
              "    }\n",
              "\n",
              "    .dataframe tbody tr th {\n",
              "        vertical-align: top;\n",
              "    }\n",
              "\n",
              "    .dataframe thead th {\n",
              "        text-align: right;\n",
              "    }\n",
              "</style>\n",
              "<table border=\"1\" class=\"dataframe\">\n",
              "  <thead>\n",
              "    <tr style=\"text-align: right;\">\n",
              "      <th></th>\n",
              "      <th>Salary</th>\n",
              "      <th>Scoring</th>\n",
              "    </tr>\n",
              "  </thead>\n",
              "  <tbody>\n",
              "    <tr>\n",
              "      <th>Salary</th>\n",
              "      <td>1.000000</td>\n",
              "      <td>0.575298</td>\n",
              "    </tr>\n",
              "    <tr>\n",
              "      <th>Scoring</th>\n",
              "      <td>0.575298</td>\n",
              "      <td>1.000000</td>\n",
              "    </tr>\n",
              "  </tbody>\n",
              "</table>\n",
              "</div>\n",
              "      <button class=\"colab-df-convert\" onclick=\"convertToInteractive('df-a4eb19f3-82e2-4c0d-a0cb-3509da484ea3')\"\n",
              "              title=\"Convert this dataframe to an interactive table.\"\n",
              "              style=\"display:none;\">\n",
              "        \n",
              "  <svg xmlns=\"http://www.w3.org/2000/svg\" height=\"24px\"viewBox=\"0 0 24 24\"\n",
              "       width=\"24px\">\n",
              "    <path d=\"M0 0h24v24H0V0z\" fill=\"none\"/>\n",
              "    <path d=\"M18.56 5.44l.94 2.06.94-2.06 2.06-.94-2.06-.94-.94-2.06-.94 2.06-2.06.94zm-11 1L8.5 8.5l.94-2.06 2.06-.94-2.06-.94L8.5 2.5l-.94 2.06-2.06.94zm10 10l.94 2.06.94-2.06 2.06-.94-2.06-.94-.94-2.06-.94 2.06-2.06.94z\"/><path d=\"M17.41 7.96l-1.37-1.37c-.4-.4-.92-.59-1.43-.59-.52 0-1.04.2-1.43.59L10.3 9.45l-7.72 7.72c-.78.78-.78 2.05 0 2.83L4 21.41c.39.39.9.59 1.41.59.51 0 1.02-.2 1.41-.59l7.78-7.78 2.81-2.81c.8-.78.8-2.07 0-2.86zM5.41 20L4 18.59l7.72-7.72 1.47 1.35L5.41 20z\"/>\n",
              "  </svg>\n",
              "      </button>\n",
              "      \n",
              "  <style>\n",
              "    .colab-df-container {\n",
              "      display:flex;\n",
              "      flex-wrap:wrap;\n",
              "      gap: 12px;\n",
              "    }\n",
              "\n",
              "    .colab-df-convert {\n",
              "      background-color: #E8F0FE;\n",
              "      border: none;\n",
              "      border-radius: 50%;\n",
              "      cursor: pointer;\n",
              "      display: none;\n",
              "      fill: #1967D2;\n",
              "      height: 32px;\n",
              "      padding: 0 0 0 0;\n",
              "      width: 32px;\n",
              "    }\n",
              "\n",
              "    .colab-df-convert:hover {\n",
              "      background-color: #E2EBFA;\n",
              "      box-shadow: 0px 1px 2px rgba(60, 64, 67, 0.3), 0px 1px 3px 1px rgba(60, 64, 67, 0.15);\n",
              "      fill: #174EA6;\n",
              "    }\n",
              "\n",
              "    [theme=dark] .colab-df-convert {\n",
              "      background-color: #3B4455;\n",
              "      fill: #D2E3FC;\n",
              "    }\n",
              "\n",
              "    [theme=dark] .colab-df-convert:hover {\n",
              "      background-color: #434B5C;\n",
              "      box-shadow: 0px 1px 3px 1px rgba(0, 0, 0, 0.15);\n",
              "      filter: drop-shadow(0px 1px 2px rgba(0, 0, 0, 0.3));\n",
              "      fill: #FFFFFF;\n",
              "    }\n",
              "  </style>\n",
              "\n",
              "      <script>\n",
              "        const buttonEl =\n",
              "          document.querySelector('#df-a4eb19f3-82e2-4c0d-a0cb-3509da484ea3 button.colab-df-convert');\n",
              "        buttonEl.style.display =\n",
              "          google.colab.kernel.accessAllowed ? 'block' : 'none';\n",
              "\n",
              "        async function convertToInteractive(key) {\n",
              "          const element = document.querySelector('#df-a4eb19f3-82e2-4c0d-a0cb-3509da484ea3');\n",
              "          const dataTable =\n",
              "            await google.colab.kernel.invokeFunction('convertToInteractive',\n",
              "                                                     [key], {});\n",
              "          if (!dataTable) return;\n",
              "\n",
              "          const docLinkHtml = 'Like what you see? Visit the ' +\n",
              "            '<a target=\"_blank\" href=https://colab.research.google.com/notebooks/data_table.ipynb>data table notebook</a>'\n",
              "            + ' to learn more about interactive tables.';\n",
              "          element.innerHTML = '';\n",
              "          dataTable['output_type'] = 'display_data';\n",
              "          await google.colab.output.renderOutput(dataTable, element);\n",
              "          const docLink = document.createElement('div');\n",
              "          docLink.innerHTML = docLinkHtml;\n",
              "          element.appendChild(docLink);\n",
              "        }\n",
              "      </script>\n",
              "    </div>\n",
              "  </div>\n",
              "  "
            ]
          },
          "metadata": {},
          "execution_count": 6
        }
      ]
    },
    {
      "cell_type": "code",
      "source": [
        "np.corrcoef(zp, ks)[1, 0]"
      ],
      "metadata": {
        "colab": {
          "base_uri": "https://localhost:8080/"
        },
        "id": "JGWX5tzEmGYp",
        "outputId": "0cab7898-09a3-470d-a9a6-95625f9074b6"
      },
      "execution_count": 7,
      "outputs": [
        {
          "output_type": "execute_result",
          "data": {
            "text/plain": [
              "0.575297938183201"
            ]
          },
          "metadata": {},
          "execution_count": 7
        }
      ]
    },
    {
      "cell_type": "markdown",
      "source": [
        "**Задача 2.** Измерены значения IQ выборки студентов,\n",
        "обучающихся в местных технических вузах:\n",
        "\n",
        "131, 125, 115, 122, 131, 115, 107, 99, 125, 111.\n",
        "\n",
        "Известно, что в генеральной совокупности IQ распределен нормально.\n",
        "\n",
        "Найдите доверительный интервал для математического ожидания с надежностью 0.95."
      ],
      "metadata": {
        "id": "-_ZuDMwlmmc3"
      }
    },
    {
      "cell_type": "code",
      "source": [
        "x = np.array([131, 125, 115, 122, 131, 115, 107, 99, 125, 111])\n",
        "\n",
        "n = x.shape[0]\n",
        "m = x.mean() #среднее\n",
        "s = x.std(ddof=1) #оценка среднего квадратического отклонения\n",
        "\n",
        "n, m, s"
      ],
      "metadata": {
        "id": "SXwFrOqimuXJ",
        "outputId": "3132baff-4815-453b-fce0-4f943048ff20",
        "colab": {
          "base_uri": "https://localhost:8080/"
        }
      },
      "execution_count": 14,
      "outputs": [
        {
          "output_type": "execute_result",
          "data": {
            "text/plain": [
              "(10, 118.1, 10.54566788359614)"
            ]
          },
          "metadata": {},
          "execution_count": 14
        }
      ]
    },
    {
      "cell_type": "code",
      "source": [
        "t = stats.t.ppf(0.975, 9)\n",
        "t"
      ],
      "metadata": {
        "id": "lydKAdAqpO3b",
        "outputId": "3c5a8259-d781-4a7b-e56a-a125ef2f03d1",
        "colab": {
          "base_uri": "https://localhost:8080/"
        }
      },
      "execution_count": 8,
      "outputs": [
        {
          "data": {
            "text/plain": [
              "2.2621571627409915"
            ]
          },
          "execution_count": 8,
          "metadata": {},
          "output_type": "execute_result"
        }
      ]
    },
    {
      "cell_type": "code",
      "source": [
        "print(m - t * s / np.sqrt(n),  m + t * s / np.sqrt(n))\n",
        "stats.t.interval(0.95 , df=len(x)-1, loc=np.mean(x), scale=stats.sem(x)) #Находим доверительный интервал"
      ],
      "metadata": {
        "id": "fwDiauJFpW0F",
        "outputId": "8749e825-a66d-47fc-8854-69bbd8b65e9e",
        "colab": {
          "base_uri": "https://localhost:8080/"
        }
      },
      "execution_count": 13,
      "outputs": [
        {
          "output_type": "stream",
          "name": "stdout",
          "text": [
            "110.55608365158724 125.64391634841274\n"
          ]
        },
        {
          "output_type": "execute_result",
          "data": {
            "text/plain": [
              "(110.55608365158724, 125.64391634841274)"
            ]
          },
          "metadata": {},
          "execution_count": 13
        }
      ]
    },
    {
      "cell_type": "markdown",
      "source": [
        "**Задача 3.** Известно, что рост футболистов в сборной распределен нормально с дисперсией генеральной совокупности, равной 25 кв.см. Объем выборки равен 27, среднее выборочное составляет 174.2. Найдите доверительный интервал для математического ожидания с надежностью 0.95"
      ],
      "metadata": {
        "id": "bTvZbTY2pmy_"
      }
    },
    {
      "cell_type": "code",
      "source": [
        "n = 27\n",
        "m = 174.2\n",
        "s = 5\n",
        "z = 1.96\n",
        "print(m - z * s / np.sqrt(n), m + z * s / np.sqrt(n))"
      ],
      "metadata": {
        "id": "zB3AI6zNpxFk"
      },
      "execution_count": null,
      "outputs": []
    },
    {
      "cell_type": "markdown",
      "source": [
        "172.31398912064722 176.08601087935276"
      ],
      "metadata": {
        "id": "6aI47q8hsdcr"
      }
    }
  ]
}